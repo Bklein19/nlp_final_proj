{
 "cells": [
  {
   "cell_type": "code",
   "execution_count": null,
   "metadata": {},
   "outputs": [],
   "source": [
    "import pandas as pd\n",
    "import numpy as np\n",
    "\n",
    "#Hydrating data\n",
    "tweets = = pd.read_csv(\"ExtractedTweets.csv\", index_col = \"Handle\")\n",
    "            \n",
    "\n",
    "\n",
    "#Preprocessing data\n",
    "\n",
    "\n",
    "\n",
    "\n",
    "#Training on model\n",
    "\n",
    "\n",
    "\n",
    "#Evaluation / Output"
   ]
  }
 ],
 "metadata": {
  "kernelspec": {
   "display_name": "Python 3",
   "language": "python",
   "name": "python3"
  },
  "language_info": {
   "codemirror_mode": {
    "name": "ipython",
    "version": 3
   },
   "file_extension": ".py",
   "mimetype": "text/x-python",
   "name": "python",
   "nbconvert_exporter": "python",
   "pygments_lexer": "ipython3",
   "version": "3.7.1"
  }
 },
 "nbformat": 4,
 "nbformat_minor": 2
}
