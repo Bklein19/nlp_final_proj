{
 "cells": [
  {
   "cell_type": "code",
   "execution_count": 1,
   "metadata": {},
   "outputs": [],
   "source": [
    "import pandas as pd\n",
    "import numpy as np\n",
    "import pprint\n",
    "\n",
    "\n",
    "#encodes a column of parties into -1, 0, or 1\n",
    "def encode_party(party_series):\n",
    "    types = {\"Democrat\": 0, \"Neutral\": 0, \"Republican\": 0}\n",
    "    output_array = []\n",
    "    for party in party_series:\n",
    "        if party == \"Democrat\":\n",
    "            types[\"Democrat\"] += 1\n",
    "        elif party == \"Neutral\":\n",
    "            types[\"Neutral\"] += 1\n",
    "        elif party == \"Republican\":\n",
    "            types[\"Republican\"] += 1\n",
    "            \n",
    "    resulting_encoding = []\n",
    "\n",
    "    for type_ in types.keys():\n",
    "        resulting_encoding.append(type_)\n",
    "    resulting_encoding.sort()\n",
    "    return np.asarray(resulting_encoding)\n"
   ]
  },
  {
   "cell_type": "code",
   "execution_count": 2,
   "metadata": {
    "scrolled": false
   },
   "outputs": [
    {
     "name": "stdout",
     "output_type": "stream",
     "text": [
      "Handle! AGBecerra\n",
      "Handle! AlanGrayson\n",
      "Handle! AnthonyBrownMD4\n",
      "Handle! AustinScottGA08\n",
      "Handle! BennieGThompson\n"
     ]
    },
    {
     "ename": "KeyboardInterrupt",
     "evalue": "",
     "output_type": "error",
     "traceback": [
      "\u001b[1;31m---------------------------------------------------------------------------\u001b[0m",
      "\u001b[1;31mKeyboardInterrupt\u001b[0m                         Traceback (most recent call last)",
      "\u001b[1;32m<ipython-input-2-b8eeda997454>\u001b[0m in \u001b[0;36m<module>\u001b[1;34m\u001b[0m\n\u001b[0;32m     32\u001b[0m \u001b[0mhandles_and_tweets\u001b[0m \u001b[1;33m=\u001b[0m \u001b[1;33m{\u001b[0m\u001b[1;33m}\u001b[0m\u001b[1;33m\u001b[0m\u001b[1;33m\u001b[0m\u001b[0m\n\u001b[0;32m     33\u001b[0m \u001b[1;32mfor\u001b[0m \u001b[0mhandle\u001b[0m \u001b[1;32min\u001b[0m \u001b[0mencoded_data\u001b[0m\u001b[1;33m.\u001b[0m\u001b[0mgroupby\u001b[0m\u001b[1;33m(\u001b[0m\u001b[1;33m[\u001b[0m\u001b[1;34m\"Handle\"\u001b[0m\u001b[1;33m]\u001b[0m\u001b[1;33m)\u001b[0m\u001b[1;33m[\u001b[0m\u001b[1;34m\"Tweet\"\u001b[0m\u001b[1;33m]\u001b[0m\u001b[1;33m:\u001b[0m\u001b[1;33m\u001b[0m\u001b[1;33m\u001b[0m\u001b[0m\n\u001b[1;32m---> 34\u001b[1;33m     \u001b[0mtweet_for_this_handle\u001b[0m \u001b[1;33m=\u001b[0m \u001b[0mconcatinate_tweets\u001b[0m\u001b[1;33m(\u001b[0m\u001b[0mhandle\u001b[0m\u001b[1;33m[\u001b[0m\u001b[1;36m1\u001b[0m\u001b[1;33m:\u001b[0m\u001b[1;33m]\u001b[0m\u001b[1;33m,\u001b[0m \u001b[0mhandle\u001b[0m\u001b[1;33m[\u001b[0m\u001b[1;36m0\u001b[0m\u001b[1;33m]\u001b[0m\u001b[1;33m,\u001b[0m \u001b[0mhandles_and_tweets\u001b[0m\u001b[1;33m)\u001b[0m\u001b[1;33m\u001b[0m\u001b[1;33m\u001b[0m\u001b[0m\n\u001b[0m\u001b[0;32m     35\u001b[0m \u001b[1;33m\u001b[0m\u001b[0m\n",
      "\u001b[1;32m<ipython-input-2-b8eeda997454>\u001b[0m in \u001b[0;36mconcatinate_tweets\u001b[1;34m(all_tweets, handle, handle_tweet_dict)\u001b[0m\n\u001b[0;32m     26\u001b[0m     \u001b[1;32mfor\u001b[0m \u001b[0mtweet\u001b[0m \u001b[1;32min\u001b[0m \u001b[0mall_tweets\u001b[0m\u001b[1;33m:\u001b[0m\u001b[1;33m\u001b[0m\u001b[1;33m\u001b[0m\u001b[0m\n\u001b[0;32m     27\u001b[0m         \u001b[1;32mfor\u001b[0m \u001b[0msingle_tweet\u001b[0m \u001b[1;32min\u001b[0m \u001b[0mtweet\u001b[0m\u001b[1;33m.\u001b[0m\u001b[0mvalues\u001b[0m\u001b[1;33m:\u001b[0m\u001b[1;33m\u001b[0m\u001b[1;33m\u001b[0m\u001b[0m\n\u001b[1;32m---> 28\u001b[1;33m             \u001b[0mtweet_document\u001b[0m \u001b[1;33m+=\u001b[0m \u001b[1;34m\" \\n \"\u001b[0m \u001b[1;33m+\u001b[0m \u001b[0msingle_tweet\u001b[0m\u001b[1;33m\u001b[0m\u001b[1;33m\u001b[0m\u001b[0m\n\u001b[0m\u001b[0;32m     29\u001b[0m     \u001b[0mhandle_tweet_dict\u001b[0m\u001b[1;33m[\u001b[0m\u001b[0mhandle\u001b[0m\u001b[1;33m]\u001b[0m \u001b[1;33m=\u001b[0m \u001b[0mdocument\u001b[0m\u001b[1;33m\u001b[0m\u001b[1;33m\u001b[0m\u001b[0m\n\u001b[0;32m     30\u001b[0m     \u001b[1;32mreturn\u001b[0m \u001b[0mdocument\u001b[0m\u001b[1;33m\u001b[0m\u001b[1;33m\u001b[0m\u001b[0m\n",
      "\u001b[1;31mKeyboardInterrupt\u001b[0m: "
     ]
    }
   ],
   "source": [
    "#Hydrating data\n",
    "tweets = pd.read_csv(\"data/ExtractedTweets.csv\")\n",
    "\n",
    "#Preprocessing data\n",
    "from sklearn.preprocessing import OneHotEncoder\n",
    "onehot = OneHotEncoder(dtype=np.int, sparse=True, categories='auto')\n",
    "\n",
    "parties = pd.DataFrame(onehot.fit_transform(tweets[[\"Party\"]])\\\n",
    "                            .toarray(),\n",
    "                            columns=[\"Democrat\", \"Republican\"]) #todo add neutral column & training data\n",
    "parties[\"Handle\"] = tweets.Handle\n",
    "\n",
    "tweets = tweets.drop([\"Party\"], axis=1)\n",
    "encoded_data = pd.merge(parties, tweets)\n",
    "\n",
    "encoded_data\n",
    "#labeling party: -1 democrat, 0 neutral, 1 republican\n",
    "#pprint.pprint(encode_party(tweets.Party))\n",
    "#tweets.replace([\"Democrat\", \"Republican\"], [0, 1])\n",
    "#tweets\n",
    "def concatinate_tweets(all_tweets, handle, handle_tweet_dict):\n",
    "    document = \" \"\n",
    "    print(\"Handle!\", handle)\n",
    "    #for user in all_tweets:\n",
    "    for tweet in all_tweets:\n",
    "        for single_tweet in tweet.values: \n",
    "            document += \" \\n \" + single_tweet \n",
    "    handle_tweet_dict[handle] = document\n",
    "    return document\n",
    "\n",
    "handles_and_tweets = {}\n",
    "for handle in encoded_data.groupby([\"Handle\"])[\"Tweet\"]:\n",
    "    tweet_for_this_handle = concatinate_tweets(handle[1:], handle[0], handles_and_tweets)\n",
    "\n"
   ]
  },
  {
   "cell_type": "code",
   "execution_count": 7,
   "metadata": {},
   "outputs": [
    {
     "data": {
      "text/plain": [
       "Handle\n",
       "RepDarrenSoto      Democrat\n",
       "RepDarrenSoto      Democrat\n",
       "RepDarrenSoto      Democrat\n",
       "RepDarrenSoto      Democrat\n",
       "RepDarrenSoto      Democrat\n",
       "RepDarrenSoto      Democrat\n",
       "RepDarrenSoto      Democrat\n",
       "RepDarrenSoto      Democrat\n",
       "RepDarrenSoto      Democrat\n",
       "RepDarrenSoto      Democrat\n",
       "RepDarrenSoto      Democrat\n",
       "RepDarrenSoto      Democrat\n",
       "RepDarrenSoto      Democrat\n",
       "RepDarrenSoto      Democrat\n",
       "RepDarrenSoto      Democrat\n",
       "RepDarrenSoto      Democrat\n",
       "RepDarrenSoto      Democrat\n",
       "RepDarrenSoto      Democrat\n",
       "RepDarrenSoto      Democrat\n",
       "RepDarrenSoto      Democrat\n",
       "RepDarrenSoto      Democrat\n",
       "RepDarrenSoto      Democrat\n",
       "RepDarrenSoto      Democrat\n",
       "RepDarrenSoto      Democrat\n",
       "RepDarrenSoto      Democrat\n",
       "RepDarrenSoto      Democrat\n",
       "RepDarrenSoto      Democrat\n",
       "RepDarrenSoto      Democrat\n",
       "RepDarrenSoto      Democrat\n",
       "RepDarrenSoto      Democrat\n",
       "                    ...    \n",
       "RepTomPrice      Republican\n",
       "RepTomPrice      Republican\n",
       "RepTomPrice      Republican\n",
       "RepTomPrice      Republican\n",
       "RepTomPrice      Republican\n",
       "RepTomPrice      Republican\n",
       "RepTomPrice      Republican\n",
       "RepTomPrice      Republican\n",
       "RepTomPrice      Republican\n",
       "RepTomPrice      Republican\n",
       "RepTomPrice      Republican\n",
       "RepTomPrice      Republican\n",
       "RepTomPrice      Republican\n",
       "RepTomPrice      Republican\n",
       "RepTomPrice      Republican\n",
       "RepTomPrice      Republican\n",
       "RepTomPrice      Republican\n",
       "RepTomPrice      Republican\n",
       "RepTomPrice      Republican\n",
       "RepTomPrice      Republican\n",
       "RepTomPrice      Republican\n",
       "RepTomPrice      Republican\n",
       "RepTomPrice      Republican\n",
       "RepTomPrice      Republican\n",
       "RepTomPrice      Republican\n",
       "RepTomPrice      Republican\n",
       "RepTomPrice      Republican\n",
       "RepTomPrice      Republican\n",
       "RepTomPrice      Republican\n",
       "RepTomPrice      Republican\n",
       "Name: Party, Length: 86460, dtype: object"
      ]
     },
     "execution_count": 7,
     "metadata": {},
     "output_type": "execute_result"
    }
   ],
   "source": [
    "#Training on model\n",
    "tweets.Party"
   ]
  },
  {
   "cell_type": "code",
   "execution_count": null,
   "metadata": {},
   "outputs": [],
   "source": [
    "#Evaluation / Output"
   ]
  }
 ],
 "metadata": {
  "kernelspec": {
   "display_name": "Python 3",
   "language": "python",
   "name": "python3"
  },
  "language_info": {
   "codemirror_mode": {
    "name": "ipython",
    "version": 3
   },
   "file_extension": ".py",
   "mimetype": "text/x-python",
   "name": "python",
   "nbconvert_exporter": "python",
   "pygments_lexer": "ipython3",
   "version": "3.7.1"
  }
 },
 "nbformat": 4,
 "nbformat_minor": 2
}
